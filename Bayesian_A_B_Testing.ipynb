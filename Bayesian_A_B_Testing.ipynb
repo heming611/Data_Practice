{
 "cells": [
  {
   "cell_type": "markdown",
   "metadata": {},
   "source": [
    "## Bayesian A/B Testing"
   ]
  },
  {
   "cell_type": "markdown",
   "metadata": {},
   "source": [
    "Taking conversion as an example. In frequentist approach, we treat population conversion rate as a fixed value, and use LLN to estimate it. Then we compare two population means. In Bayesian approach, we treat the conversion rate as a random variable that has some prior distribution (before conducting the experiment). \n",
    "\n",
    "After the experiment, we have two samples, one from control group, one from experiment group. For each of them, we use the sample to update the prior distribution. After getting two posterior distributions, we compare them to see which one has more desired result."
   ]
  },
  {
   "cell_type": "code",
   "execution_count": 74,
   "metadata": {},
   "outputs": [],
   "source": [
    "from scipy.stats import beta\n",
    "import matplotlib.pyplot as plt\n",
    "import numpy as np\n",
    "import pandas as pd\n",
    "%matplotlib inline"
   ]
  },
  {
   "cell_type": "markdown",
   "metadata": {},
   "source": [
    "In studying conversion rate, which is modeled as a random variable distributed on $[0,1]$, we usually use beta distribution, denoted as $beta(\\alpha,\\beta)$. \n",
    "\n",
    "* $beta(1,1)$ is uniform\n",
    "* $\\alpha$ is the number of conversions, $\\beta$ represents number of not conversions."
   ]
  },
  {
   "cell_type": "code",
   "execution_count": 63,
   "metadata": {},
   "outputs": [],
   "source": [
    "n = 4000 #number of coin flips\n",
    "\n",
    "control, experiment = np.random.rand(2,n)\n",
    "\n",
    "c_threshold, e_threshold = 0.16, 0.17\n",
    "\n",
    "c_success, e_success = sum(control<c_threshold), sum(experiment<e_threshold)\n",
    "\n",
    "c_failure, e_failure = n-c_success, n-e_success\n",
    "\n",
    "prior_success = 8\n",
    "prior_failure = 42"
   ]
  },
  {
   "cell_type": "code",
   "execution_count": 64,
   "metadata": {},
   "outputs": [
    {
     "data": {
      "image/png": "[encoded data removed]",
      "text/plain": [
       "<matplotlib.figure.Figure at 0x1a2185c8d0>"
      ]
     },
     "metadata": {},
     "output_type": "display_data"
    }
   ],
   "source": [
    "plt.figure(figsize=(6,4))\n",
    "# Control\n",
    "c_alpha, c_beta = c_success+prior_success, c_failure+prior_failure\n",
    "\n",
    "# Experiment\n",
    "e_alpha, e_beta = e_success+prior_success, e_failure+prior_failure\n",
    "\n",
    "x = np.linspace(0,0.3,100)\n",
    "\n",
    "# Generate and plot the distributions\n",
    "c_dist = beta(c_alpha,c_beta)\n",
    "e_dist = beta(e_alpha,e_beta)\n",
    "\n",
    "plt.plot(x,c_dist.pdf(x),label = 'Control')\n",
    "plt.plot(x,e_dist.pdf(x),label ='Experiment')\n",
    "plt.xlabel('Conversion Rate')\n",
    "plt.ylabel('Density')\n",
    "plt.legend()\n",
    "plt.show()"
   ]
  },
  {
   "cell_type": "markdown",
   "metadata": {},
   "source": [
    "**Comments**\n",
    "\n",
    "* Comparing the two distributions is similar to comparing the two estimated means in the frequentist approach."
   ]
  },
  {
   "cell_type": "markdown",
   "metadata": {},
   "source": [
    "### Posterior Mean Comparison"
   ]
  },
  {
   "cell_type": "code",
   "execution_count": 67,
   "metadata": {},
   "outputs": [
    {
     "data": {
      "text/plain": [
       "(0.16, 0.183)"
      ]
     },
     "execution_count": 67,
     "metadata": {},
     "output_type": "execute_result"
    }
   ],
   "source": [
    "np.round(c_dist.mean(),3), np.round(e_dist.mean(),3)"
   ]
  },
  {
   "cell_type": "code",
   "execution_count": 44,
   "metadata": {},
   "outputs": [
    {
     "data": {
      "text/plain": [
       "array([0.11146545, 0.17786183, 0.26063892])"
      ]
     },
     "execution_count": 44,
     "metadata": {},
     "output_type": "execute_result"
    }
   ],
   "source": [
    "c_dist.ppf([0.025, 0.5, 0.975])"
   ]
  },
  {
   "cell_type": "markdown",
   "metadata": {},
   "source": [
    "### P-ish Value\n",
    "\n",
    "It measures that if I draw many random variables from both distributions, what is the percentage of pairs for which the one from control posterior distribution is greater than the one from experiment distribution."
   ]
  },
  {
   "cell_type": "code",
   "execution_count": 65,
   "metadata": {},
   "outputs": [
    {
     "data": {
      "text/plain": [
       "0.0035"
      ]
     },
     "execution_count": 65,
     "metadata": {},
     "output_type": "execute_result"
    }
   ],
   "source": [
    "sample_size = 10000\n",
    "c_samples = np.array([c_dist.rvs() for _ in range(sample_size)])\n",
    "e_samples = np.array([e_dist.rvs() for _ in range(sample_size)])\n",
    "p_ish_value = np.mean(1*(c_samples>e_samples))\n",
    "p_ish_value"
   ]
  },
  {
   "cell_type": "markdown",
   "metadata": {},
   "source": [
    "### Frequency of Ratio between Experiment and Control"
   ]
  },
  {
   "cell_type": "code",
   "execution_count": 73,
   "metadata": {},
   "outputs": [
    {
     "data": {
      "image/png": "[encoded data removed]",
      "text/plain": [
       "<matplotlib.figure.Figure at 0x1a21f21b00>"
      ]
     },
     "metadata": {},
     "output_type": "display_data"
    }
   ],
   "source": [
    "ratio = e_samples/c_samples\n",
    "\n",
    "fig = plt.figure()\n",
    "fig.set_size_inches(6, 5)\n",
    "\n",
    "ax = fig.add_subplot(1,1,1)\n",
    "ax.hist(ratio, label = 'Ratio', normed = True, alpha=0.6, color= 'blue')\n",
    "plt.xticks(rotation='vertical')\n",
    "ax.set_title('Frequency of Ratio between Experiment and Control')\n",
    "\n",
    "plt.tight_layout()\n",
    "plt.legend(prop={'size': 10})\n",
    "plt.show()"
   ]
  }
 ],
 "metadata": {
  "kernelspec": {
   "display_name": "Python 3",
   "language": "python",
   "name": "python3"
  },
  "language_info": {
   "codemirror_mode": {
    "name": "ipython",
    "version": 3
   },
   "file_extension": ".py",
   "mimetype": "text/x-python",
   "name": "python",
   "nbconvert_exporter": "python",
   "pygments_lexer": "ipython3",
   "version": "3.6.4"
  }
 },
 "nbformat": 4,
 "nbformat_minor": 2
}
