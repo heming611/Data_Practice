{
 "cells": [
  {
   "cell_type": "markdown",
   "metadata": {},
   "source": [
    "## Breast Cancel Detection\n",
    "\n",
    "**Ming He**\n",
    "**(02-17-2018)**"
   ]
  },
  {
   "cell_type": "code",
   "execution_count": 79,
   "metadata": {
    "collapsed": true
   },
   "outputs": [],
   "source": [
    "import pandas as pd\n",
    "import numpy as np\n",
    "import matplotlib.pyplot as plt\n",
    "from sklearn.model_selection import train_test_split\n",
    "from sklearn import svm\n",
    "from sklearn.linear_model import LogisticRegression\n",
    "from sklearn.metrics import roc_curve, roc_auc_score, confusion_matrix"
   ]
  },
  {
   "cell_type": "markdown",
   "metadata": {},
   "source": [
    "**Variables Information**\n",
    "\n",
    "1. Sample code number: id number\n",
    "2. Clump Thickness: 1-10\n",
    "3. Uniformity of Cell Size: 1-10\n",
    "4. Uniformity of Cell Shape: 1-10\n",
    "5. Marginal Adhesion: 1-10\n",
    "6. Single Epithelial Cell Size: 1-10\n",
    "7. Bare Nuclei: 1-10\n",
    "8. Bland Chromatin: 1-10\n",
    "9. Normal Nucleoli: 1-10\n",
    "10. Mitoses: 1-10\n",
    "11. Class: (2 for benign, 4 for malignant)"
   ]
  },
  {
   "cell_type": "code",
   "execution_count": 59,
   "metadata": {
    "collapsed": true
   },
   "outputs": [],
   "source": [
    "#Number of Attributes: 10, label: 1\n",
    "data = pd.read_csv('breast-cancer-data.csv', header = -1)\n",
    "data.shape\n",
    "\n",
    "data.columns = ['id','clump_thickness','cell_size_uniformity','cell_shape_uniformity',\n",
    "                'marginal_adhesion','epithelial_cell_size', 'bare_nuclei','bland_chromatin',\n",
    "                'normal_nucleoli','mitoses','label']\n",
    "\n",
    "#Refine the class labels\n",
    "data['label'] = data['label'].map({2:0,4:1})"
   ]
  },
  {
   "cell_type": "markdown",
   "metadata": {},
   "source": [
    "#### Is there any missing data?\n",
    "Yes, Drop data with ?"
   ]
  },
  {
   "cell_type": "code",
   "execution_count": 60,
   "metadata": {
    "collapsed": true
   },
   "outputs": [],
   "source": [
    "data = data.replace('?', value = np.nan)"
   ]
  },
  {
   "cell_type": "code",
   "execution_count": 61,
   "metadata": {},
   "outputs": [
    {
     "name": "stdout",
     "output_type": "stream",
     "text": [
      "<class 'pandas.core.frame.DataFrame'>\n",
      "RangeIndex: 699 entries, 0 to 698\n",
      "Data columns (total 11 columns):\n",
      "id                       699 non-null int64\n",
      "clump_thickness          699 non-null int64\n",
      "cell_size_uniformity     699 non-null int64\n",
      "cell_shape_uniformity    699 non-null int64\n",
      "marginal_adhesion        699 non-null int64\n",
      "epithelial_cell_size     699 non-null int64\n",
      "bare_nuclei              683 non-null object\n",
      "bland_chromatin          699 non-null int64\n",
      "normal_nucleoli          699 non-null int64\n",
      "mitoses                  699 non-null int64\n",
      "label                    699 non-null int64\n",
      "dtypes: int64(10), object(1)\n",
      "memory usage: 60.1+ KB\n"
     ]
    }
   ],
   "source": [
    "data.info()"
   ]
  },
  {
   "cell_type": "code",
   "execution_count": 62,
   "metadata": {
    "collapsed": true
   },
   "outputs": [],
   "source": [
    "data['bare_nuclei'] = list(map(float,data['bare_nuclei']))"
   ]
  },
  {
   "cell_type": "code",
   "execution_count": 64,
   "metadata": {},
   "outputs": [],
   "source": [
    "data = data.fillna(data.mean())"
   ]
  },
  {
   "cell_type": "code",
   "execution_count": 65,
   "metadata": {
    "collapsed": true
   },
   "outputs": [],
   "source": [
    "all_features = ['clump_thickness','cell_size_uniformity','cell_shape_uniformity',\n",
    "                'marginal_adhesion','epithelial_cell_size', 'bare_nuclei','bland_chromatin',\n",
    "                'normal_nucleoli','mitoses']\n",
    "X = data[all_features]\n",
    "y = data['label']\n",
    "X_train, X_test, y_train, y_test = train_test_split(X,y,test_size = 0.25)"
   ]
  },
  {
   "cell_type": "markdown",
   "metadata": {},
   "source": [
    "### Is this data balanced? No"
   ]
  },
  {
   "cell_type": "code",
   "execution_count": 67,
   "metadata": {},
   "outputs": [
    {
     "name": "stdout",
     "output_type": "stream",
     "text": [
      "Percentage of Malignant Cases is: 0.3448\n",
      "Percentage Belign Cases is: 0.6552\n"
     ]
    }
   ],
   "source": [
    "num_samples = data.shape[0]\n",
    "print('Percentage of Malignant Cases is: {0:.4f}'.format(sum(data['label'] == 1)/num_samples))\n",
    "print('Percentage Belign Cases is: {0:.4f}'.format(sum(data['label']==0)/num_samples))"
   ]
  },
  {
   "cell_type": "markdown",
   "metadata": {},
   "source": [
    "### Select Most Important Features for Prediction"
   ]
  },
  {
   "cell_type": "code",
   "execution_count": 70,
   "metadata": {
    "scrolled": true
   },
   "outputs": [
    {
     "name": "stdout",
     "output_type": "stream",
     "text": [
      "Feature ranking:\n",
      "1. feature 5 (0.214699)\n",
      "2. feature 1 (0.193081)\n",
      "3. feature 2 (0.149179)\n",
      "4. feature 7 (0.117786)\n",
      "5. feature 6 (0.095922)\n",
      "6. feature 0 (0.089146)\n",
      "7. feature 3 (0.065835)\n",
      "8. feature 4 (0.060780)\n",
      "9. feature 8 (0.013571)\n"
     ]
    },
    {
     "data": {
      "image/png": "[encoded data removed]",
      "text/plain": [
       "<matplotlib.figure.Figure at 0x7fc5b5a9ef28>"
      ]
     },
     "metadata": {},
     "output_type": "display_data"
    }
   ],
   "source": [
    "from sklearn.datasets import make_classification\n",
    "from sklearn.ensemble import ExtraTreesClassifier\n",
    "\n",
    "# Build a forest and compute the feature importances\n",
    "forest = ExtraTreesClassifier(n_estimators=250, random_state=0)\n",
    "\n",
    "forest.fit(X, y)\n",
    "importances = forest.feature_importances_\n",
    "std = np.std([tree.feature_importances_ for tree in forest.estimators_], axis=0)\n",
    "indices = np.argsort(importances)[::-1]\n",
    "\n",
    "# Print the feature ranking\n",
    "print(\"Feature ranking:\")\n",
    "\n",
    "for f in range(X.shape[1]):\n",
    "    print(\"%d. feature %d (%f)\" % (f + 1, indices[f], importances[indices[f]]))\n",
    "\n",
    "# Plot the feature importances of the forest\n",
    "plt.figure()\n",
    "plt.title(\"Feature importances\")\n",
    "plt.bar(range(X.shape[1]), importances[indices],\n",
    "       color=\"r\", yerr=std[indices], align=\"center\")\n",
    "plt.xticks(range(X.shape[1]), indices)\n",
    "plt.xlim([-1, X.shape[1]])\n",
    "plt.show()"
   ]
  },
  {
   "cell_type": "markdown",
   "metadata": {},
   "source": [
    "### Get Features Ranked According to Importance"
   ]
  },
  {
   "cell_type": "code",
   "execution_count": 71,
   "metadata": {
    "scrolled": true
   },
   "outputs": [
    {
     "data": {
      "text/html": [
       "<div>\n",
       "<style>\n",
       "    .dataframe thead tr:only-child th {\n",
       "        text-align: right;\n",
       "    }\n",
       "\n",
       "    .dataframe thead th {\n",
       "        text-align: left;\n",
       "    }\n",
       "\n",
       "    .dataframe tbody tr th {\n",
       "        vertical-align: top;\n",
       "    }\n",
       "</style>\n",
       "<table border=\"1\" class=\"dataframe\">\n",
       "  <thead>\n",
       "    <tr style=\"text-align: right;\">\n",
       "      <th></th>\n",
       "      <th>Feature</th>\n",
       "      <th>Rank</th>\n",
       "    </tr>\n",
       "  </thead>\n",
       "  <tbody>\n",
       "    <tr>\n",
       "      <th>0</th>\n",
       "      <td>bare_nuclei</td>\n",
       "      <td>0</td>\n",
       "    </tr>\n",
       "    <tr>\n",
       "      <th>1</th>\n",
       "      <td>cell_size_uniformity</td>\n",
       "      <td>1</td>\n",
       "    </tr>\n",
       "    <tr>\n",
       "      <th>2</th>\n",
       "      <td>cell_shape_uniformity</td>\n",
       "      <td>2</td>\n",
       "    </tr>\n",
       "    <tr>\n",
       "      <th>3</th>\n",
       "      <td>normal_nucleoli</td>\n",
       "      <td>3</td>\n",
       "    </tr>\n",
       "    <tr>\n",
       "      <th>4</th>\n",
       "      <td>bland_chromatin</td>\n",
       "      <td>4</td>\n",
       "    </tr>\n",
       "    <tr>\n",
       "      <th>5</th>\n",
       "      <td>clump_thickness</td>\n",
       "      <td>5</td>\n",
       "    </tr>\n",
       "    <tr>\n",
       "      <th>6</th>\n",
       "      <td>marginal_adhesion</td>\n",
       "      <td>6</td>\n",
       "    </tr>\n",
       "    <tr>\n",
       "      <th>7</th>\n",
       "      <td>epithelial_cell_size</td>\n",
       "      <td>7</td>\n",
       "    </tr>\n",
       "    <tr>\n",
       "      <th>8</th>\n",
       "      <td>mitoses</td>\n",
       "      <td>8</td>\n",
       "    </tr>\n",
       "  </tbody>\n",
       "</table>\n",
       "</div>"
      ],
      "text/plain": [
       "                 Feature  Rank\n",
       "0            bare_nuclei     0\n",
       "1   cell_size_uniformity     1\n",
       "2  cell_shape_uniformity     2\n",
       "3        normal_nucleoli     3\n",
       "4        bland_chromatin     4\n",
       "5        clump_thickness     5\n",
       "6      marginal_adhesion     6\n",
       "7   epithelial_cell_size     7\n",
       "8                mitoses     8"
      ]
     },
     "execution_count": 71,
     "metadata": {},
     "output_type": "execute_result"
    }
   ],
   "source": [
    "ranked_features = []\n",
    "for i in range(len(all_features)):\n",
    "    ranked_features.append(all_features[indices[i]])\n",
    "ranked_features_df = pd.DataFrame({'Feature': ranked_features,'Rank': list(np.arange(0,9))})\n",
    "ranked_features_df "
   ]
  },
  {
   "cell_type": "markdown",
   "metadata": {},
   "source": [
    "### Logistic Classifier\n",
    "\n",
    "We choose to use Logistic Classifier over SVM for Interpretability. Below we choose number of most important features to include by trying different total numbers and plot ROC curve and AUC."
   ]
  },
  {
   "cell_type": "code",
   "execution_count": 72,
   "metadata": {
    "collapsed": true
   },
   "outputs": [],
   "source": [
    "fpr, tpr, thresholds, auc = [], [], [], []\n",
    "for i in np.arange(3,10,2):\n",
    "    features_subset = ranked_features[0:i]\n",
    "    X_train_subset, X_test_subset = X_train[features_subset], X_test[features_subset]\n",
    "    lr = LogisticRegression()\n",
    "    lr.fit(X_train_subset,y_train)\n",
    "    y_train_predicted_lr = lr.predict(X_train_subset)\n",
    "    y_test_predicted_lr = lr.predict(X_test_subset)\n",
    "    y_train_score =  lr.predict_proba(X_train_subset)\n",
    "    fpr_tmp, tpr_tmp, thresholds_tmp = roc_curve(y_train, y_train_score[:,1], pos_label=1)\n",
    "    auc.append(roc_auc_score(y_train, y_train_score[:,1]))\n",
    "    fpr.append(fpr_tmp)\n",
    "    tpr.append(tpr_tmp)\n",
    "    thresholds.append(thresholds_tmp)"
   ]
  },
  {
   "cell_type": "code",
   "execution_count": 76,
   "metadata": {},
   "outputs": [
    {
     "data": {
      "image/png": "[encoded data removed]",
      "text/plain": [
       "<matplotlib.figure.Figure at 0x7fc5ae405a58>"
      ]
     },
     "metadata": {},
     "output_type": "display_data"
    }
   ],
   "source": [
    "plt.figure(figsize = (12,5))\n",
    "plt.subplot(1,2,1)\n",
    "for i,j in enumerate(np.arange(3,10,2)):\n",
    "    plt.plot(fpr[i], tpr[i], lw=1, label='ROC curve ('+str(j)+ ' Most Important Features)')\n",
    "\n",
    "plt.plot([0, 1], [0, 1], color='navy', lw=1, linestyle='--')\n",
    "plt.xlim([0.0, 1.0])\n",
    "plt.ylim([0.0, 1.05])\n",
    "plt.xlabel('False Positive Rate')\n",
    "plt.ylabel('True Positive Rate')\n",
    "plt.title('ROC of Different Number of Important Features')\n",
    "plt.legend(loc=\"lower right\")\n",
    "\n",
    "plt.subplot(1,2,2)\n",
    "plt.plot(np.arange(3,10,2),auc)\n",
    "plt.ylim([0.95,1])\n",
    "plt.xlabel('Number of Most Important Features')\n",
    "plt.ylabel('AUC Score')\n",
    "plt.title('AUC wrt Number of Important Features')\n",
    "plt.show()"
   ]
  },
  {
   "cell_type": "markdown",
   "metadata": {},
   "source": [
    "Here is a nice discussion of using ROC curve.\n",
    "http://www0.cs.ucl.ac.uk/staff/ucacbbl/roc/"
   ]
  },
  {
   "cell_type": "markdown",
   "metadata": {},
   "source": [
    "## Focusing on small set of feature for interpretability"
   ]
  },
  {
   "cell_type": "code",
   "execution_count": 80,
   "metadata": {
    "collapsed": true
   },
   "outputs": [],
   "source": [
    "i=3\n",
    "features_subset = ranked_features[0:i]\n",
    "X_train_subset, X_test_subset = X_train[features_subset], X_test[features_subset]\n",
    "lr = LogisticRegression()\n",
    "lr.fit(X_train_subset,y_train)\n",
    "y_train_predicted_lr = lr.predict(X_train_subset)\n",
    "y_test_predicted_lr = lr.predict(X_test_subset)"
   ]
  },
  {
   "cell_type": "code",
   "execution_count": 84,
   "metadata": {
    "scrolled": true
   },
   "outputs": [
    {
     "name": "stdout",
     "output_type": "stream",
     "text": [
      "Confusion matrix, without normalization\n",
      "Confusion matrix, without normalization\n"
     ]
    },
    {
     "data": {
      "text/plain": [
       "<matplotlib.figure.Figure at 0x7fc5ae2cf630>"
      ]
     },
     "metadata": {},
     "output_type": "display_data"
    },
    {
     "data": {
      "image/png": "[encoded data removed]",
      "text/plain": [
       "<matplotlib.figure.Figure at 0x7fc5ae2cf9b0>"
      ]
     },
     "metadata": {},
     "output_type": "display_data"
    }
   ],
   "source": [
    "# Compute confusion matrix\n",
    "confusion_matrix_train_lr = confusion_matrix(y_train, y_train_predicted_lr)\n",
    "confusion_matrix_test_lr = confusion_matrix(y_test, y_test_predicted_lr)\n",
    "np.set_printoptions(precision=2)\n",
    "# Plot non-normalized confusion matrix\n",
    "plt.figure()\n",
    "plt.figure(figsize=(12,4))\n",
    "plt.subplot(1,2,1)\n",
    "plot_confusion_matrix(confusion_matrix_train_lr, classes=['Benign','Malignant'],\n",
    "                      title='Confusion matrix (Train Data)')\n",
    "plt.subplot(1,2,2)\n",
    "plot_confusion_matrix(confusion_matrix_test_lr, classes=['Benign','Malignant'],\n",
    "                      title='Confusion matrix (Test Data)')\n",
    "plt.show()"
   ]
  },
  {
   "cell_type": "code",
   "execution_count": 85,
   "metadata": {},
   "outputs": [
    {
     "data": {
      "text/plain": [
       "(array([[ 0.47,  0.45,  0.37]]), array([-5.05]))"
      ]
     },
     "execution_count": 85,
     "metadata": {},
     "output_type": "execute_result"
    }
   ],
   "source": [
    "lr.coef_,lr.intercept_"
   ]
  },
  {
   "cell_type": "markdown",
   "metadata": {},
   "source": [
    "**Comment**: from here, we know that the three features: bare_nuclei, cell_size_uniformity, cell_shape_uniformity all contribute positively towards the probability of getting a Breast cancer, and their marginal effects are similar in magnitude."
   ]
  },
  {
   "cell_type": "markdown",
   "metadata": {},
   "source": [
    "### Logistic Regression Taking into Account Imbalance of the data"
   ]
  },
  {
   "cell_type": "code",
   "execution_count": 86,
   "metadata": {
    "collapsed": true
   },
   "outputs": [],
   "source": [
    "i=3\n",
    "features_subset = ranked_features[0:i]\n",
    "X_train_subset, X_test_subset = X_train[features_subset], X_test[features_subset]\n",
    "lr = LogisticRegression(class_weight={0:1, 1:1.85})\n",
    "lr.fit(X_train_subset,y_train)\n",
    "y_train_predicted_lr = lr.predict(X_train_subset)\n",
    "y_test_predicted_lr = lr.predict(X_test_subset)"
   ]
  },
  {
   "cell_type": "code",
   "execution_count": 87,
   "metadata": {},
   "outputs": [
    {
     "name": "stdout",
     "output_type": "stream",
     "text": [
      "Confusion matrix, without normalization\n",
      "Confusion matrix, without normalization\n"
     ]
    },
    {
     "data": {
      "text/plain": [
       "<matplotlib.figure.Figure at 0x7fc5ae0e8ac8>"
      ]
     },
     "metadata": {},
     "output_type": "display_data"
    },
    {
     "data": {
      "image/png": "[encoded data removed]",
      "text/plain": [
       "<matplotlib.figure.Figure at 0x7fc5ae589240>"
      ]
     },
     "metadata": {},
     "output_type": "display_data"
    }
   ],
   "source": [
    "# Compute confusion matrix\n",
    "confusion_matrix_train_lr = confusion_matrix(y_train, y_train_predicted_lr)\n",
    "confusion_matrix_test_lr = confusion_matrix(y_test, y_test_predicted_lr)\n",
    "np.set_printoptions(precision=2)\n",
    "# Plot non-normalized confusion matrix\n",
    "plt.figure()\n",
    "plt.figure(figsize=(12,4))\n",
    "plt.subplot(1,2,1)\n",
    "plot_confusion_matrix(confusion_matrix_train_lr, classes=['Benign','Malignant'],\n",
    "                      title='Confusion matrix (Train Data)')\n",
    "plt.subplot(1,2,2)\n",
    "plot_confusion_matrix(confusion_matrix_test_lr, classes=['Benign','Malignant'],\n",
    "                      title='Confusion matrix (Test Data)')\n",
    "plt.show()"
   ]
  },
  {
   "cell_type": "code",
   "execution_count": 88,
   "metadata": {},
   "outputs": [
    {
     "data": {
      "text/plain": [
       "(array([[ 0.52,  0.51,  0.41]]), array([-5.03]))"
      ]
     },
     "execution_count": 88,
     "metadata": {},
     "output_type": "execute_result"
    }
   ],
   "source": [
    "lr.coef_,lr.intercept_"
   ]
  },
  {
   "cell_type": "markdown",
   "metadata": {},
   "source": [
    "**Comment**: from here, we know that the three features: bare_nuclei, cell_size_uniformity, cell_shape_uniformity all contribute positively towards the probability of getting a Breast cancer, and their marginal effects are similar in magnitude."
   ]
  },
  {
   "cell_type": "code",
   "execution_count": 82,
   "metadata": {
    "collapsed": true
   },
   "outputs": [],
   "source": [
    "import itertools\n",
    "def plot_confusion_matrix(cm, classes,\n",
    "                          normalize=False,\n",
    "                          title='Confusion matrix',\n",
    "                          cmap=plt.cm.Blues):\n",
    "    \"\"\"\n",
    "    This function prints and plots the confusion matrix.\n",
    "    Normalization can be applied by setting `normalize=True`.\n",
    "    \"\"\"\n",
    "    if normalize:\n",
    "        cm = cm.astype('float') / cm.sum(axis=1)[:, np.newaxis]\n",
    "        print(\"Normalized confusion matrix\")\n",
    "    else:\n",
    "        print('Confusion matrix, without normalization')\n",
    "\n",
    "    #print(cm)\n",
    "\n",
    "    plt.imshow(cm, interpolation='nearest', cmap=cmap)\n",
    "    plt.title(title)\n",
    "    plt.colorbar()\n",
    "    tick_marks = np.arange(len(classes))\n",
    "    plt.xticks(tick_marks, classes, rotation=45)\n",
    "    plt.yticks(tick_marks, classes)\n",
    "\n",
    "    fmt = '.2f' if normalize else 'd'\n",
    "    thresh = cm.max() / 2.\n",
    "    for i, j in itertools.product(range(cm.shape[0]), range(cm.shape[1])):\n",
    "        plt.text(j, i, format(cm[i, j], fmt),\n",
    "                 horizontalalignment=\"center\",\n",
    "                 color=\"white\" if cm[i, j] > thresh else \"black\")\n",
    "\n",
    "    plt.tight_layout()\n",
    "    plt.ylabel('True label')\n",
    "    plt.xlabel('Predicted label')"
   ]
  }
 ],
 "metadata": {
  "kernelspec": {
   "display_name": "Python 3",
   "language": "python",
   "name": "python3"
  },
  "language_info": {
   "codemirror_mode": {
    "name": "ipython",
    "version": 3
   },
   "file_extension": ".py",
   "mimetype": "text/x-python",
   "name": "python",
   "nbconvert_exporter": "python",
   "pygments_lexer": "ipython3",
   "version": "3.6.4"
  }
 },
 "nbformat": 4,
 "nbformat_minor": 2
}
